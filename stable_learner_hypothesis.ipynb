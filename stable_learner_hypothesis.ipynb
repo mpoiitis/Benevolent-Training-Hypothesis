{
 "cells": [
  {
   "cell_type": "code",
   "execution_count": 5,
   "metadata": {},
   "outputs": [],
   "source": [
    "import torch\n",
    "import pickle\n",
    "import numpy as np\n",
    "import torch\n",
    "import pickle\n",
    "import numpy as np\n",
    "from sklearn.model_selection import train_test_split\n",
    "from plots import plot_data, plot_metrics, plot_spatial_error_distributon\n",
    "from utils import CustomDataset, parse_args, generate_cos_wave\n",
    "from models import MLP"
   ]
  },
  {
   "cell_type": "code",
   "execution_count": 23,
   "metadata": {},
   "outputs": [],
   "source": [
    "DATA_DIM = 10\n",
    "torch.manual_seed(0)\n",
    "np.random.seed(0)\n",
    "N = 20\n",
    "freq = 1.0\n",
    "\n",
    "bs = 1\n",
    "n = 128\n",
    "lr = 0.001\n",
    "epochs = 10000\n",
    "device = torch.device(\"cuda\")"
   ]
  },
  {
   "cell_type": "markdown",
   "metadata": {},
   "source": [
    "# LOAD DATA FROM PICKLES"
   ]
  },
  {
   "cell_type": "code",
   "execution_count": 18,
   "metadata": {},
   "outputs": [],
   "source": [
    "x = pickle.load(open('pickles/data/{}_samples_{}_freq_train_data.pickle'.format(N, freq), 'rb'))\n",
    "y = pickle.load(open('pickles/data/{}_samples_{}_freq_train_labels.pickle'.format(N, freq), 'rb'))\n",
    "test_x = pickle.load(open('pickles/data/{}_freq_test_data.pickle'.format(freq), 'rb'))\n",
    "test_y = pickle.load(open('pickles/data/{}_freq_test_labels.pickle'.format(freq), 'rb'))\n",
    "rand_matrix = pickle.load(open('pickles/data/{}_{}_projection_matrix'.format(DATA_DIM, DATA_DIM), 'rb'))"
   ]
  },
  {
   "cell_type": "markdown",
   "metadata": {},
   "source": [
    "# PROJECTION\n"
   ]
  },
  {
   "cell_type": "code",
   "execution_count": 19,
   "metadata": {},
   "outputs": [],
   "source": [
    "# Append zeros to expand 2d to DATA_DIM\n",
    "zeros_x = np.zeros((x.shape[0], DATA_DIM))\n",
    "zeros_x[:, :x.shape[1]] = x\n",
    "zeros_test_x = np.zeros((test_x.shape[0], DATA_DIM))\n",
    "zeros_test_x[:, :test_x.shape[1]] = test_x"
   ]
  },
  {
   "cell_type": "code",
   "execution_count": 20,
   "metadata": {},
   "outputs": [],
   "source": [
    "# get a random unitary matrix\n",
    "q, r = np.linalg.qr(rand_matrix, mode='complete')\n",
    "# project points on this matrix\n",
    "q = q * 10  # change the variance of q\n",
    "zeros_x = np.matmul(q, zeros_x.T).T\n",
    "zeros_test_x = np.matmul(q, zeros_test_x.T).T\n",
    "x = zeros_x\n",
    "test_x = zeros_test_x"
   ]
  },
  {
   "cell_type": "code",
   "execution_count": 21,
   "metadata": {
    "tags": []
   },
   "outputs": [],
   "source": [
    "dataset = CustomDataset(x, y, device)\n",
    "test_dataset = CustomDataset(test_x, test_y, device)\n",
    "dataloader = torch.utils.data.DataLoader(dataset, batch_size=bs, shuffle=True)\n",
    "test_dataloader = torch.utils.data.DataLoader(dataset, batch_size=bs, shuffle=False)"
   ]
  },
  {
   "cell_type": "markdown",
   "metadata": {},
   "source": [
    "# MODEL"
   ]
  },
  {
   "cell_type": "code",
   "execution_count": 22,
   "metadata": {},
   "outputs": [],
   "source": [
    "model = MLP(in_dim=DATA_DIM, n=n)\n",
    "model.to(device)\n",
    "\n",
    "optimizer = torch.optim.SGD(model.parameters(), lr=lr)\n",
    "loss_fn = torch.nn.MSELoss()"
   ]
  },
  {
   "cell_type": "markdown",
   "metadata": {},
   "source": [
    "# TRAIN-TEST"
   ]
  },
  {
   "cell_type": "code",
   "execution_count": null,
   "metadata": {},
   "outputs": [],
   "source": [
    "mean_train_losses = []\n",
    "mean_test_losses = []\n",
    "avg_errors = []\n",
    "for epoch in range(epochs):\n",
    "    model.train()\n",
    "    train_losses = []\n",
    "    test_losses = []\n",
    "    avg_error = torch.empty(len(dataloader), bs)\n",
    "    for batch_idx, (x_batch, y_batch) in enumerate(dataloader):\n",
    "        optimizer.zero_grad()\n",
    "        y_pred = model(x_batch)\n",
    "        y_pred = y_pred.view(-1)\n",
    "\n",
    "        avg_error[batch_idx] = torch.abs(y_batch - y_pred) / torch.abs(y_batch)\n",
    "\n",
    "        loss = loss_fn(y_pred, y_batch)\n",
    "        loss.backward()\n",
    "        optimizer.step()\n",
    "\n",
    "        train_losses.append(loss.item())\n",
    "\n",
    "    model.eval()\n",
    "    correct = 0\n",
    "    total = 0\n",
    "    with torch.no_grad():\n",
    "        for batch_idx, (test_x_batch, test_y_batch) in enumerate(test_dataloader):\n",
    "            test_y_pred = model(test_x_batch)\n",
    "            test_y_pred = test_y_pred.view(-1)\n",
    "            loss = loss_fn(test_y_pred, test_y_batch)\n",
    "\n",
    "            test_losses.append(loss.item())\n",
    "\n",
    "    mean_train_losses.append(np.mean(train_losses))\n",
    "    mean_test_losses.append(np.mean(test_losses))\n",
    "\n",
    "    avg_error = torch.mean(avg_error)\n",
    "    avg_errors.append(avg_error)\n",
    "    print('epoch : {}, train loss : {:.4f}, test loss : {:.4f}, Average Error : {}'.format(epoch + 1, np.mean(train_losses), np.mean(test_losses), avg_error))\n"
   ]
  },
  {
   "cell_type": "markdown",
   "metadata": {
    "tags": []
   },
   "source": [
    "# MORE METRICS"
   ]
  },
  {
   "cell_type": "code",
   "execution_count": null,
   "metadata": {},
   "outputs": [],
   "source": [
    "y_preds = torch.empty(len(dataloader), args.bs)\n",
    "for batch_idx, (x_batch, y_batch) in enumerate(dataloader):\n",
    "    y_pred = model(x_batch)\n",
    "    y_pred = y_pred.view(-1)\n",
    "    y_preds[batch_idx] = y_pred\n",
    "\n",
    "y_preds = y_preds.view(-1).to(device)\n",
    "avg_norm_mse = torch.mean((dataset.y - y_preds)**2 / dataset.y**2)\n",
    "print('Average Normalized MSE:{}'.format(avg_norm_mse))"
   ]
  }
 ],
 "metadata": {
  "kernelspec": {
   "display_name": "Python 3",
   "language": "python",
   "name": "python3"
  },
  "language_info": {
   "codemirror_mode": {
    "name": "ipython",
    "version": 3
   },
   "file_extension": ".py",
   "mimetype": "text/x-python",
   "name": "python",
   "nbconvert_exporter": "python",
   "pygments_lexer": "ipython3",
   "version": "3.6.8"
  }
 },
 "nbformat": 4,
 "nbformat_minor": 4
}
